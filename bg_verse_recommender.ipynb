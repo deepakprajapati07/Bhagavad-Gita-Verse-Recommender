{
 "cells": [
  {
   "cell_type": "markdown",
   "metadata": {},
   "source": [
    "# Notebook 04 : Bhagavad Gita Chapter & Verse Recommendation in English"
   ]
  },
  {
   "cell_type": "code",
   "execution_count": 1,
   "metadata": {},
   "outputs": [],
   "source": [
    "import pandas as pd\n",
    "import numpy as np\n",
    "import spacy\n",
    "from tqdm import tqdm\n",
    "from sklearn.metrics.pairwise import cosine_similarity"
   ]
  },
  {
   "cell_type": "code",
   "execution_count": 2,
   "metadata": {},
   "outputs": [],
   "source": [
    "tqdm.pandas()\n",
    "nlp = spacy.load('en_core_web_lg')"
   ]
  },
  {
   "cell_type": "code",
   "execution_count": 3,
   "metadata": {},
   "outputs": [],
   "source": [
    "df = pd.read_csv('./bhagavad_gita_final.csv')"
   ]
  },
  {
   "cell_type": "code",
   "execution_count": 4,
   "metadata": {},
   "outputs": [
    {
     "data": {
      "text/plain": [
       "701"
      ]
     },
     "execution_count": 4,
     "metadata": {},
     "output_type": "execute_result"
    }
   ],
   "source": [
    "len(df)"
   ]
  },
  {
   "cell_type": "code",
   "execution_count": 5,
   "metadata": {},
   "outputs": [
    {
     "data": {
      "text/html": [
       "<div>\n",
       "<style scoped>\n",
       "    .dataframe tbody tr th:only-of-type {\n",
       "        vertical-align: middle;\n",
       "    }\n",
       "\n",
       "    .dataframe tbody tr th {\n",
       "        vertical-align: top;\n",
       "    }\n",
       "\n",
       "    .dataframe thead th {\n",
       "        text-align: right;\n",
       "    }\n",
       "</style>\n",
       "<table border=\"1\" class=\"dataframe\">\n",
       "  <thead>\n",
       "    <tr style=\"text-align: right;\">\n",
       "      <th></th>\n",
       "      <th>Chapter</th>\n",
       "      <th>Verse</th>\n",
       "      <th>verse_in_sanskrit</th>\n",
       "      <th>sanskrit_verse_transliteration</th>\n",
       "      <th>translation_in_english</th>\n",
       "      <th>meaning_in_english</th>\n",
       "      <th>translation_in_hindi</th>\n",
       "      <th>meaning_in_hindi</th>\n",
       "    </tr>\n",
       "  </thead>\n",
       "  <tbody>\n",
       "    <tr>\n",
       "      <th>0</th>\n",
       "      <td>Chapter 1</td>\n",
       "      <td>Verse 1</td>\n",
       "      <td>धृतराष्ट्र उवाच |धर्मक्षेत्रे कुरुक्षेत्रे समव...</td>\n",
       "      <td>dhṛitarāśhtra uvācha dharma-kṣhetre kuru-kṣhet...</td>\n",
       "      <td>Dhritarashtra said: O Sanjay, after gathering ...</td>\n",
       "      <td>The two armies had gathered on the battlefield...</td>\n",
       "      <td>धृतराष्ट्र ने कहाः हे संजय! कुरुक्षेत्र की पवि...</td>\n",
       "      <td>राजा धृतराष्ट्र जन्म से नेत्रहीन होने के अतिरि...</td>\n",
       "    </tr>\n",
       "    <tr>\n",
       "      <th>1</th>\n",
       "      <td>Chapter 1</td>\n",
       "      <td>Verse 2</td>\n",
       "      <td>सञ्जय उवाच ।दृष्ट्वा तु पाण्डवानीकं व्यूढं दुर...</td>\n",
       "      <td>sañjaya uvācha dṛiṣhṭvā tu pāṇḍavānīkaṁ vyūḍha...</td>\n",
       "      <td>Sanjay said: On observing the Pandava army sta...</td>\n",
       "      <td>Sanjay understood Dhritarashtra’s concern, who...</td>\n",
       "      <td>संजय ने कहाः हे राजन्! पाण्डवों की सेना की व्य...</td>\n",
       "      <td>धृतराष्ट्र इस बात की पुष्टि करना चाहता था कि क...</td>\n",
       "    </tr>\n",
       "    <tr>\n",
       "      <th>2</th>\n",
       "      <td>Chapter 1</td>\n",
       "      <td>Verse 3</td>\n",
       "      <td>पश्यैतां पाण्डुपुत्राणामाचार्य महतीं चमूम् ।व्...</td>\n",
       "      <td>paśhyaitāṁ pāṇḍu-putrāṇām āchārya mahatīṁ cham...</td>\n",
       "      <td>Duryodhan said: Respected teacher!Behold the m...</td>\n",
       "      <td>Duryodhana asked Dronacharya to look at the sk...</td>\n",
       "      <td>दुर्योधन ने कहाः पूज्य आचार्य! पाण्डु पुत्रों ...</td>\n",
       "      <td>दुर्योधन एक कुशल कूटनीतिज्ञ के रूप में अपने से...</td>\n",
       "    </tr>\n",
       "    <tr>\n",
       "      <th>3</th>\n",
       "      <td>Chapter 1</td>\n",
       "      <td>Verse 4-6</td>\n",
       "      <td>अत्र शूरा महेष्वासा भीमार्जुनसमा युधि  युयुधान...</td>\n",
       "      <td>atra śhūrā maheṣhvāsā bhīmārjuna-samā yudhiyuy...</td>\n",
       "      <td>Behold in their ranks are many powerful warrio...</td>\n",
       "      <td>Due to his anxiety, the Pandava army seemed mu...</td>\n",
       "      <td>यहाँ इस सेना में भीम और अर्जुन के समान बलशाली ...</td>\n",
       "      <td>अपने सम्मख संकट को मंडराते देखकर दुर्योधन को प...</td>\n",
       "    </tr>\n",
       "    <tr>\n",
       "      <th>4</th>\n",
       "      <td>Chapter 1</td>\n",
       "      <td>Verse 4-6</td>\n",
       "      <td>अत्र शूरा महेष्वासा भीमार्जुनसमा युधि  युयुधान...</td>\n",
       "      <td>atra śhūrā maheṣhvāsā bhīmārjuna-samā yudhiyuy...</td>\n",
       "      <td>Behold in their ranks are many powerful warrio...</td>\n",
       "      <td>Due to his anxiety, the Pandava army seemed mu...</td>\n",
       "      <td>यहाँ इस सेना में भीम और अर्जुन के समान बलशाली ...</td>\n",
       "      <td>अपने सम्मख संकट को मंडराते देखकर दुर्योधन को प...</td>\n",
       "    </tr>\n",
       "  </tbody>\n",
       "</table>\n",
       "</div>"
      ],
      "text/plain": [
       "     Chapter      Verse                                  verse_in_sanskrit  \\\n",
       "0  Chapter 1    Verse 1  धृतराष्ट्र उवाच |धर्मक्षेत्रे कुरुक्षेत्रे समव...   \n",
       "1  Chapter 1    Verse 2  सञ्जय उवाच ।दृष्ट्वा तु पाण्डवानीकं व्यूढं दुर...   \n",
       "2  Chapter 1    Verse 3  पश्यैतां पाण्डुपुत्राणामाचार्य महतीं चमूम् ।व्...   \n",
       "3  Chapter 1  Verse 4-6  अत्र शूरा महेष्वासा भीमार्जुनसमा युधि  युयुधान...   \n",
       "4  Chapter 1  Verse 4-6  अत्र शूरा महेष्वासा भीमार्जुनसमा युधि  युयुधान...   \n",
       "\n",
       "                      sanskrit_verse_transliteration  \\\n",
       "0  dhṛitarāśhtra uvācha dharma-kṣhetre kuru-kṣhet...   \n",
       "1  sañjaya uvācha dṛiṣhṭvā tu pāṇḍavānīkaṁ vyūḍha...   \n",
       "2  paśhyaitāṁ pāṇḍu-putrāṇām āchārya mahatīṁ cham...   \n",
       "3  atra śhūrā maheṣhvāsā bhīmārjuna-samā yudhiyuy...   \n",
       "4  atra śhūrā maheṣhvāsā bhīmārjuna-samā yudhiyuy...   \n",
       "\n",
       "                              translation_in_english  \\\n",
       "0  Dhritarashtra said: O Sanjay, after gathering ...   \n",
       "1  Sanjay said: On observing the Pandava army sta...   \n",
       "2  Duryodhan said: Respected teacher!Behold the m...   \n",
       "3  Behold in their ranks are many powerful warrio...   \n",
       "4  Behold in their ranks are many powerful warrio...   \n",
       "\n",
       "                                  meaning_in_english  \\\n",
       "0  The two armies had gathered on the battlefield...   \n",
       "1  Sanjay understood Dhritarashtra’s concern, who...   \n",
       "2  Duryodhana asked Dronacharya to look at the sk...   \n",
       "3  Due to his anxiety, the Pandava army seemed mu...   \n",
       "4  Due to his anxiety, the Pandava army seemed mu...   \n",
       "\n",
       "                                translation_in_hindi  \\\n",
       "0  धृतराष्ट्र ने कहाः हे संजय! कुरुक्षेत्र की पवि...   \n",
       "1  संजय ने कहाः हे राजन्! पाण्डवों की सेना की व्य...   \n",
       "2  दुर्योधन ने कहाः पूज्य आचार्य! पाण्डु पुत्रों ...   \n",
       "3  यहाँ इस सेना में भीम और अर्जुन के समान बलशाली ...   \n",
       "4  यहाँ इस सेना में भीम और अर्जुन के समान बलशाली ...   \n",
       "\n",
       "                                    meaning_in_hindi  \n",
       "0  राजा धृतराष्ट्र जन्म से नेत्रहीन होने के अतिरि...  \n",
       "1  धृतराष्ट्र इस बात की पुष्टि करना चाहता था कि क...  \n",
       "2  दुर्योधन एक कुशल कूटनीतिज्ञ के रूप में अपने से...  \n",
       "3  अपने सम्मख संकट को मंडराते देखकर दुर्योधन को प...  \n",
       "4  अपने सम्मख संकट को मंडराते देखकर दुर्योधन को प...  "
      ]
     },
     "execution_count": 5,
     "metadata": {},
     "output_type": "execute_result"
    }
   ],
   "source": [
    "df.head()"
   ]
  },
  {
   "cell_type": "markdown",
   "metadata": {},
   "source": [
    "### Data Preprocessing"
   ]
  },
  {
   "cell_type": "code",
   "execution_count": 6,
   "metadata": {},
   "outputs": [],
   "source": [
    "df['exp_english'] = df['translation_in_english'] + df['meaning_in_english']"
   ]
  },
  {
   "cell_type": "code",
   "execution_count": 7,
   "metadata": {},
   "outputs": [
    {
     "data": {
      "text/html": [
       "<div>\n",
       "<style scoped>\n",
       "    .dataframe tbody tr th:only-of-type {\n",
       "        vertical-align: middle;\n",
       "    }\n",
       "\n",
       "    .dataframe tbody tr th {\n",
       "        vertical-align: top;\n",
       "    }\n",
       "\n",
       "    .dataframe thead th {\n",
       "        text-align: right;\n",
       "    }\n",
       "</style>\n",
       "<table border=\"1\" class=\"dataframe\">\n",
       "  <thead>\n",
       "    <tr style=\"text-align: right;\">\n",
       "      <th></th>\n",
       "      <th>Chapter</th>\n",
       "      <th>Verse</th>\n",
       "      <th>verse_in_sanskrit</th>\n",
       "      <th>sanskrit_verse_transliteration</th>\n",
       "      <th>translation_in_english</th>\n",
       "      <th>meaning_in_english</th>\n",
       "      <th>translation_in_hindi</th>\n",
       "      <th>meaning_in_hindi</th>\n",
       "      <th>exp_english</th>\n",
       "    </tr>\n",
       "  </thead>\n",
       "  <tbody>\n",
       "    <tr>\n",
       "      <th>0</th>\n",
       "      <td>Chapter 1</td>\n",
       "      <td>Verse 1</td>\n",
       "      <td>धृतराष्ट्र उवाच |धर्मक्षेत्रे कुरुक्षेत्रे समव...</td>\n",
       "      <td>dhṛitarāśhtra uvācha dharma-kṣhetre kuru-kṣhet...</td>\n",
       "      <td>Dhritarashtra said: O Sanjay, after gathering ...</td>\n",
       "      <td>The two armies had gathered on the battlefield...</td>\n",
       "      <td>धृतराष्ट्र ने कहाः हे संजय! कुरुक्षेत्र की पवि...</td>\n",
       "      <td>राजा धृतराष्ट्र जन्म से नेत्रहीन होने के अतिरि...</td>\n",
       "      <td>Dhritarashtra said: O Sanjay, after gathering ...</td>\n",
       "    </tr>\n",
       "    <tr>\n",
       "      <th>1</th>\n",
       "      <td>Chapter 1</td>\n",
       "      <td>Verse 2</td>\n",
       "      <td>सञ्जय उवाच ।दृष्ट्वा तु पाण्डवानीकं व्यूढं दुर...</td>\n",
       "      <td>sañjaya uvācha dṛiṣhṭvā tu pāṇḍavānīkaṁ vyūḍha...</td>\n",
       "      <td>Sanjay said: On observing the Pandava army sta...</td>\n",
       "      <td>Sanjay understood Dhritarashtra’s concern, who...</td>\n",
       "      <td>संजय ने कहाः हे राजन्! पाण्डवों की सेना की व्य...</td>\n",
       "      <td>धृतराष्ट्र इस बात की पुष्टि करना चाहता था कि क...</td>\n",
       "      <td>Sanjay said: On observing the Pandava army sta...</td>\n",
       "    </tr>\n",
       "  </tbody>\n",
       "</table>\n",
       "</div>"
      ],
      "text/plain": [
       "     Chapter    Verse                                  verse_in_sanskrit  \\\n",
       "0  Chapter 1  Verse 1  धृतराष्ट्र उवाच |धर्मक्षेत्रे कुरुक्षेत्रे समव...   \n",
       "1  Chapter 1  Verse 2  सञ्जय उवाच ।दृष्ट्वा तु पाण्डवानीकं व्यूढं दुर...   \n",
       "\n",
       "                      sanskrit_verse_transliteration  \\\n",
       "0  dhṛitarāśhtra uvācha dharma-kṣhetre kuru-kṣhet...   \n",
       "1  sañjaya uvācha dṛiṣhṭvā tu pāṇḍavānīkaṁ vyūḍha...   \n",
       "\n",
       "                              translation_in_english  \\\n",
       "0  Dhritarashtra said: O Sanjay, after gathering ...   \n",
       "1  Sanjay said: On observing the Pandava army sta...   \n",
       "\n",
       "                                  meaning_in_english  \\\n",
       "0  The two armies had gathered on the battlefield...   \n",
       "1  Sanjay understood Dhritarashtra’s concern, who...   \n",
       "\n",
       "                                translation_in_hindi  \\\n",
       "0  धृतराष्ट्र ने कहाः हे संजय! कुरुक्षेत्र की पवि...   \n",
       "1  संजय ने कहाः हे राजन्! पाण्डवों की सेना की व्य...   \n",
       "\n",
       "                                    meaning_in_hindi  \\\n",
       "0  राजा धृतराष्ट्र जन्म से नेत्रहीन होने के अतिरि...   \n",
       "1  धृतराष्ट्र इस बात की पुष्टि करना चाहता था कि क...   \n",
       "\n",
       "                                         exp_english  \n",
       "0  Dhritarashtra said: O Sanjay, after gathering ...  \n",
       "1  Sanjay said: On observing the Pandava army sta...  "
      ]
     },
     "execution_count": 7,
     "metadata": {},
     "output_type": "execute_result"
    }
   ],
   "source": [
    "df.head(2)"
   ]
  },
  {
   "cell_type": "code",
   "execution_count": 8,
   "metadata": {},
   "outputs": [],
   "source": [
    "def preprocess(text):\n",
    "    doc = nlp(text)\n",
    "    no_stop_words = [token.text for token in doc if not token.is_stop and not token.is_punct]\n",
    "    return \" \".join(no_stop_words)"
   ]
  },
  {
   "cell_type": "code",
   "execution_count": 9,
   "metadata": {},
   "outputs": [
    {
     "name": "stderr",
     "output_type": "stream",
     "text": [
      "  0%|          | 0/701 [00:00<?, ?it/s]"
     ]
    },
    {
     "name": "stderr",
     "output_type": "stream",
     "text": [
      "100%|██████████| 701/701 [00:29<00:00, 24.09it/s]\n"
     ]
    }
   ],
   "source": [
    "df['exp_english_tok'] = df['exp_english'].progress_apply(preprocess)"
   ]
  },
  {
   "cell_type": "code",
   "execution_count": 10,
   "metadata": {},
   "outputs": [],
   "source": [
    "def vectorize(token):\n",
    "    doc = nlp(token)\n",
    "    return doc.vector"
   ]
  },
  {
   "cell_type": "code",
   "execution_count": 11,
   "metadata": {},
   "outputs": [
    {
     "name": "stderr",
     "output_type": "stream",
     "text": [
      "100%|██████████| 701/701 [00:14<00:00, 49.39it/s]\n"
     ]
    }
   ],
   "source": [
    "df['exp_english_vec'] = df['exp_english_tok'].progress_apply(vectorize)"
   ]
  },
  {
   "cell_type": "code",
   "execution_count": 12,
   "metadata": {},
   "outputs": [
    {
     "data": {
      "text/html": [
       "<div>\n",
       "<style scoped>\n",
       "    .dataframe tbody tr th:only-of-type {\n",
       "        vertical-align: middle;\n",
       "    }\n",
       "\n",
       "    .dataframe tbody tr th {\n",
       "        vertical-align: top;\n",
       "    }\n",
       "\n",
       "    .dataframe thead th {\n",
       "        text-align: right;\n",
       "    }\n",
       "</style>\n",
       "<table border=\"1\" class=\"dataframe\">\n",
       "  <thead>\n",
       "    <tr style=\"text-align: right;\">\n",
       "      <th></th>\n",
       "      <th>Chapter</th>\n",
       "      <th>Verse</th>\n",
       "      <th>verse_in_sanskrit</th>\n",
       "      <th>sanskrit_verse_transliteration</th>\n",
       "      <th>translation_in_english</th>\n",
       "      <th>meaning_in_english</th>\n",
       "      <th>translation_in_hindi</th>\n",
       "      <th>meaning_in_hindi</th>\n",
       "      <th>exp_english</th>\n",
       "      <th>exp_english_tok</th>\n",
       "      <th>exp_english_vec</th>\n",
       "    </tr>\n",
       "  </thead>\n",
       "  <tbody>\n",
       "    <tr>\n",
       "      <th>0</th>\n",
       "      <td>Chapter 1</td>\n",
       "      <td>Verse 1</td>\n",
       "      <td>धृतराष्ट्र उवाच |धर्मक्षेत्रे कुरुक्षेत्रे समव...</td>\n",
       "      <td>dhṛitarāśhtra uvācha dharma-kṣhetre kuru-kṣhet...</td>\n",
       "      <td>Dhritarashtra said: O Sanjay, after gathering ...</td>\n",
       "      <td>The two armies had gathered on the battlefield...</td>\n",
       "      <td>धृतराष्ट्र ने कहाः हे संजय! कुरुक्षेत्र की पवि...</td>\n",
       "      <td>राजा धृतराष्ट्र जन्म से नेत्रहीन होने के अतिरि...</td>\n",
       "      <td>Dhritarashtra said: O Sanjay, after gathering ...</td>\n",
       "      <td>Dhritarashtra said O Sanjay gathering holy fie...</td>\n",
       "      <td>[-0.87439275, 0.64175534, -1.0684762, -0.40278...</td>\n",
       "    </tr>\n",
       "    <tr>\n",
       "      <th>1</th>\n",
       "      <td>Chapter 1</td>\n",
       "      <td>Verse 2</td>\n",
       "      <td>सञ्जय उवाच ।दृष्ट्वा तु पाण्डवानीकं व्यूढं दुर...</td>\n",
       "      <td>sañjaya uvācha dṛiṣhṭvā tu pāṇḍavānīkaṁ vyūḍha...</td>\n",
       "      <td>Sanjay said: On observing the Pandava army sta...</td>\n",
       "      <td>Sanjay understood Dhritarashtra’s concern, who...</td>\n",
       "      <td>संजय ने कहाः हे राजन्! पाण्डवों की सेना की व्य...</td>\n",
       "      <td>धृतराष्ट्र इस बात की पुष्टि करना चाहता था कि क...</td>\n",
       "      <td>Sanjay said: On observing the Pandava army sta...</td>\n",
       "      <td>Sanjay said observing Pandava army standing mi...</td>\n",
       "      <td>[-0.42753977, 0.5367661, -0.6775614, -0.008954...</td>\n",
       "    </tr>\n",
       "  </tbody>\n",
       "</table>\n",
       "</div>"
      ],
      "text/plain": [
       "     Chapter    Verse                                  verse_in_sanskrit  \\\n",
       "0  Chapter 1  Verse 1  धृतराष्ट्र उवाच |धर्मक्षेत्रे कुरुक्षेत्रे समव...   \n",
       "1  Chapter 1  Verse 2  सञ्जय उवाच ।दृष्ट्वा तु पाण्डवानीकं व्यूढं दुर...   \n",
       "\n",
       "                      sanskrit_verse_transliteration  \\\n",
       "0  dhṛitarāśhtra uvācha dharma-kṣhetre kuru-kṣhet...   \n",
       "1  sañjaya uvācha dṛiṣhṭvā tu pāṇḍavānīkaṁ vyūḍha...   \n",
       "\n",
       "                              translation_in_english  \\\n",
       "0  Dhritarashtra said: O Sanjay, after gathering ...   \n",
       "1  Sanjay said: On observing the Pandava army sta...   \n",
       "\n",
       "                                  meaning_in_english  \\\n",
       "0  The two armies had gathered on the battlefield...   \n",
       "1  Sanjay understood Dhritarashtra’s concern, who...   \n",
       "\n",
       "                                translation_in_hindi  \\\n",
       "0  धृतराष्ट्र ने कहाः हे संजय! कुरुक्षेत्र की पवि...   \n",
       "1  संजय ने कहाः हे राजन्! पाण्डवों की सेना की व्य...   \n",
       "\n",
       "                                    meaning_in_hindi  \\\n",
       "0  राजा धृतराष्ट्र जन्म से नेत्रहीन होने के अतिरि...   \n",
       "1  धृतराष्ट्र इस बात की पुष्टि करना चाहता था कि क...   \n",
       "\n",
       "                                         exp_english  \\\n",
       "0  Dhritarashtra said: O Sanjay, after gathering ...   \n",
       "1  Sanjay said: On observing the Pandava army sta...   \n",
       "\n",
       "                                     exp_english_tok  \\\n",
       "0  Dhritarashtra said O Sanjay gathering holy fie...   \n",
       "1  Sanjay said observing Pandava army standing mi...   \n",
       "\n",
       "                                     exp_english_vec  \n",
       "0  [-0.87439275, 0.64175534, -1.0684762, -0.40278...  \n",
       "1  [-0.42753977, 0.5367661, -0.6775614, -0.008954...  "
      ]
     },
     "execution_count": 12,
     "metadata": {},
     "output_type": "execute_result"
    }
   ],
   "source": [
    "df.head(2)"
   ]
  },
  {
   "cell_type": "code",
   "execution_count": 13,
   "metadata": {},
   "outputs": [],
   "source": [
    "final_df = df[['Chapter', 'Verse', 'verse_in_sanskrit', 'translation_in_english', 'meaning_in_english', 'translation_in_hindi', 'meaning_in_hindi', 'sanskrit_verse_transliteration', 'exp_english_vec']]"
   ]
  },
  {
   "cell_type": "code",
   "execution_count": 14,
   "metadata": {},
   "outputs": [
    {
     "data": {
      "text/html": [
       "<div>\n",
       "<style scoped>\n",
       "    .dataframe tbody tr th:only-of-type {\n",
       "        vertical-align: middle;\n",
       "    }\n",
       "\n",
       "    .dataframe tbody tr th {\n",
       "        vertical-align: top;\n",
       "    }\n",
       "\n",
       "    .dataframe thead th {\n",
       "        text-align: right;\n",
       "    }\n",
       "</style>\n",
       "<table border=\"1\" class=\"dataframe\">\n",
       "  <thead>\n",
       "    <tr style=\"text-align: right;\">\n",
       "      <th></th>\n",
       "      <th>Chapter</th>\n",
       "      <th>Verse</th>\n",
       "      <th>verse_in_sanskrit</th>\n",
       "      <th>translation_in_english</th>\n",
       "      <th>meaning_in_english</th>\n",
       "      <th>translation_in_hindi</th>\n",
       "      <th>meaning_in_hindi</th>\n",
       "      <th>sanskrit_verse_transliteration</th>\n",
       "      <th>exp_english_vec</th>\n",
       "    </tr>\n",
       "  </thead>\n",
       "  <tbody>\n",
       "    <tr>\n",
       "      <th>0</th>\n",
       "      <td>Chapter 1</td>\n",
       "      <td>Verse 1</td>\n",
       "      <td>धृतराष्ट्र उवाच |धर्मक्षेत्रे कुरुक्षेत्रे समव...</td>\n",
       "      <td>Dhritarashtra said: O Sanjay, after gathering ...</td>\n",
       "      <td>The two armies had gathered on the battlefield...</td>\n",
       "      <td>धृतराष्ट्र ने कहाः हे संजय! कुरुक्षेत्र की पवि...</td>\n",
       "      <td>राजा धृतराष्ट्र जन्म से नेत्रहीन होने के अतिरि...</td>\n",
       "      <td>dhṛitarāśhtra uvācha dharma-kṣhetre kuru-kṣhet...</td>\n",
       "      <td>[-0.87439275, 0.64175534, -1.0684762, -0.40278...</td>\n",
       "    </tr>\n",
       "    <tr>\n",
       "      <th>1</th>\n",
       "      <td>Chapter 1</td>\n",
       "      <td>Verse 2</td>\n",
       "      <td>सञ्जय उवाच ।दृष्ट्वा तु पाण्डवानीकं व्यूढं दुर...</td>\n",
       "      <td>Sanjay said: On observing the Pandava army sta...</td>\n",
       "      <td>Sanjay understood Dhritarashtra’s concern, who...</td>\n",
       "      <td>संजय ने कहाः हे राजन्! पाण्डवों की सेना की व्य...</td>\n",
       "      <td>धृतराष्ट्र इस बात की पुष्टि करना चाहता था कि क...</td>\n",
       "      <td>sañjaya uvācha dṛiṣhṭvā tu pāṇḍavānīkaṁ vyūḍha...</td>\n",
       "      <td>[-0.42753977, 0.5367661, -0.6775614, -0.008954...</td>\n",
       "    </tr>\n",
       "  </tbody>\n",
       "</table>\n",
       "</div>"
      ],
      "text/plain": [
       "     Chapter    Verse                                  verse_in_sanskrit  \\\n",
       "0  Chapter 1  Verse 1  धृतराष्ट्र उवाच |धर्मक्षेत्रे कुरुक्षेत्रे समव...   \n",
       "1  Chapter 1  Verse 2  सञ्जय उवाच ।दृष्ट्वा तु पाण्डवानीकं व्यूढं दुर...   \n",
       "\n",
       "                              translation_in_english  \\\n",
       "0  Dhritarashtra said: O Sanjay, after gathering ...   \n",
       "1  Sanjay said: On observing the Pandava army sta...   \n",
       "\n",
       "                                  meaning_in_english  \\\n",
       "0  The two armies had gathered on the battlefield...   \n",
       "1  Sanjay understood Dhritarashtra’s concern, who...   \n",
       "\n",
       "                                translation_in_hindi  \\\n",
       "0  धृतराष्ट्र ने कहाः हे संजय! कुरुक्षेत्र की पवि...   \n",
       "1  संजय ने कहाः हे राजन्! पाण्डवों की सेना की व्य...   \n",
       "\n",
       "                                    meaning_in_hindi  \\\n",
       "0  राजा धृतराष्ट्र जन्म से नेत्रहीन होने के अतिरि...   \n",
       "1  धृतराष्ट्र इस बात की पुष्टि करना चाहता था कि क...   \n",
       "\n",
       "                      sanskrit_verse_transliteration  \\\n",
       "0  dhṛitarāśhtra uvācha dharma-kṣhetre kuru-kṣhet...   \n",
       "1  sañjaya uvācha dṛiṣhṭvā tu pāṇḍavānīkaṁ vyūḍha...   \n",
       "\n",
       "                                     exp_english_vec  \n",
       "0  [-0.87439275, 0.64175534, -1.0684762, -0.40278...  \n",
       "1  [-0.42753977, 0.5367661, -0.6775614, -0.008954...  "
      ]
     },
     "execution_count": 14,
     "metadata": {},
     "output_type": "execute_result"
    }
   ],
   "source": [
    "final_df.head(2)"
   ]
  },
  {
   "cell_type": "markdown",
   "metadata": {},
   "source": [
    "### Finding Similarity & Returning Results\n",
    "* English Recommendation\n",
    "    * Top k Recommendations\n",
    "* Hindi Recommendation\n",
    "    * Top k Recommendations"
   ]
  },
  {
   "cell_type": "code",
   "execution_count": 15,
   "metadata": {},
   "outputs": [],
   "source": [
    "def calculate_similarity(user_vector, df_column):\n",
    "    similarities = []\n",
    "    for vector in df_column:\n",
    "        similarity = cosine_similarity([user_vector], [vector])\n",
    "        similarities.append(similarity[0][0])\n",
    "    return similarities"
   ]
  },
  {
   "cell_type": "code",
   "execution_count": 16,
   "metadata": {},
   "outputs": [],
   "source": [
    "def result_eng(user_input, top_k=3):\n",
    "    user_input_vector = vectorize(user_input)\n",
    "    similarities = calculate_similarity(user_input_vector, final_df['exp_english_vec'])\n",
    "    \n",
    "    top_indices = np.argsort(similarities)[::-1][:top_k]\n",
    "    top_k_rows = final_df.iloc[top_indices]\n",
    "    \n",
    "    results = []\n",
    "    for index, row in top_k_rows.iterrows():\n",
    "        result_dict = {\n",
    "            'chapter': row.iloc[0],\n",
    "            'verse': row.iloc[1],\n",
    "            'sholkha': row.iloc[2],\n",
    "            'eng_translation': row.iloc[3],\n",
    "            'eng_meaning': row.iloc[4]\n",
    "        }\n",
    "        results.append(result_dict)\n",
    "    \n",
    "    return results"
   ]
  },
  {
   "cell_type": "code",
   "execution_count": 17,
   "metadata": {},
   "outputs": [],
   "source": [
    "def result_hin(user_input, top_k=3):\n",
    "    user_input_vector = vectorize(user_input)\n",
    "    similarities = calculate_similarity(user_input_vector, final_df['exp_english_vec'])\n",
    "    \n",
    "    top_indices = np.argsort(similarities)[::-1][:top_k]\n",
    "    top_k_rows = final_df.iloc[top_indices]\n",
    "    \n",
    "    results = []\n",
    "    for index, row in top_k_rows.iterrows():\n",
    "        result_dict = {\n",
    "            'chapter': row.iloc[0],\n",
    "            'verse': row.iloc[1],\n",
    "            'sholkha': row.iloc[2],\n",
    "            'hin_translation': row.iloc[5],\n",
    "            'hin_meaning': row.iloc[6]\n",
    "        }\n",
    "        results.append(result_dict)\n",
    "    \n",
    "    return results"
   ]
  },
  {
   "cell_type": "markdown",
   "metadata": {},
   "source": [
    "### Printing the Results"
   ]
  },
  {
   "cell_type": "code",
   "execution_count": 18,
   "metadata": {},
   "outputs": [
    {
     "name": "stdout",
     "output_type": "stream",
     "text": [
      "\n",
      "----- Match 1 -----\n",
      "\n",
      "Chapter: Chapter 12\n",
      "Verse: Verse 11\n",
      "Sholkha: अथैतदप्यशक्तोऽसि कर्तुं मद्योगमाश्रित: |सर्वकर्मफलत्यागं तत: कुरु यतात्मवान् || 11||\n",
      "English Translation of Sholkha: If you are unable to even work for Me in devotion, then try to renounce the fruits of your actions and be situated in the self.\n",
      "\n",
      "Meaning in English: Beginning with verse 12.8, Shree Krishna gave three ways for Arjun’s welfare. In the third, He asked Arjun to work for Him. However, that also requires a purified and resolute intellect. Those who are not yet convinced about their relationship with God, and have not yet made God-realization the goal of their lives, may find it impossible to work for His pleasure. Therefore, Shree Krishna now gives the fourth alternative for welfare. He says, “Arjun keep doing your works as before, but become detached from the fruits of your actions.” Such detachment will purify our mind from the modes of ignorance (tamas) and passion (rajas), and bring it to the mode of goodness (sattva). In this way, renouncing the fruits of our efforts will help remove worldliness from our mind and strengthen the intellect. Then, the purified intellect will more easily be able to comprehend transcendental knowledge, and we will be able to move to the higher levels of sādhanā.\n",
      "\n",
      "----- Match 2 -----\n",
      "\n",
      "Chapter: Chapter 2\n",
      "Verse: Verse 8\n",
      "Sholkha: न हि प्रपश्यामि ममापनुद्याद्यच्छोकमुच्छोषणमिन्द्रियाणाम् |अवाप्य भूमावसपत्नमृद्धंराज्यं सुराणामपि चाधिपत्यम् || 8||\n",
      "English Translation of Sholkha: I can find no means of driving away this anguish that is drying up my senses. Even if I win a prosperous and unrivalled kingdom on the earth, or gain sovereignty like the celestial gods, I will be unable to dispel this grief.\n",
      "\n",
      "Meaning in English: When we are swamped in misery, the intellect keeps analyzing the cause of misery, and when it is able to think no further, then dejection sets in. Since Arjun’s problems are looming bigger than his feeble intellectual abilities, his material knowledge is insufficient in saving him from the ocean of grief that he finds himself in. Having accepted Shree Krishna as his Guru, Arjun now pours out his heart to him, to reveal his pitiable state.Arjun’s situation is not unique. This is invariably the situation we sometimes find ourselves in as we go through the journey of life. We want happiness, but we experience misery; we desire knowledge, but are unable to lift the cloud of ignorance; we crave perfect love, but repeatedly meet with disappointment. Our college degrees, acquired knowledge, and mundane scholarships do not provide solutions to these perplexities of life. We need divine knowledge to solve the puzzle of life. That treasure chest of divine knowledge is opened when we find a true Guru, one who is situated in transcendence, provided we have the humility to learn from him. Such is the path Arjun has decided to take.\n",
      "\n",
      "----- Match 3 -----\n",
      "\n",
      "Chapter: Chapter 13\n",
      "Verse: Verse 29\n",
      "Sholkha: समं पश्यन्हि सर्वत्र समवस्थितमीश्वरम् |न हिनस्त्यात्मनात्मानं ततो याति परां गतिम् || 29||\n",
      "English Translation of Sholkha: Those, who see God as the Supreme Soul equally present everywhere and in all living beings, do not degrade themselves by their mind.Thereby, they reach the supreme destination.\n",
      "\n",
      "Meaning in English: The mind is pleasure seeking by nature and, being a product of the material energy, is spontaneously inclined to material pleasures. If we follow the inclinations of our mind, we become degraded into deeper and deeper material consciousness. The way to prevent this downslide is to keep the mind in check with the help of the intellect. For this, the intellect needs to be empowered with true knowledge.Those, who learn to see God as the Supreme Soul present in all beings, begin to live by this knowledge. They no longer seek personal gain and enjoyment in their relationships with others. They neither get attached to others for the good done by them, nor hate them for any harm caused by them. Rather, seeing everyone as a part of God, they maintain a healthy attitude of respect and service toward others. They naturally refrain from mistreating, cheating, or insulting others, when they perceive in them the presence of God. Also, the humanly created distinctions of nationality, creed, caste, sex, status, and color, all become irrelevant. Thus, they elevate their mind by seeing God in all living beings, and finally reach the supreme goal.\n"
     ]
    }
   ],
   "source": [
    "user_input = 'How to attain ultimate happiness'\n",
    "top_three_matches = result_eng(user_input, top_k=3)\n",
    "\n",
    "for i, match in enumerate(top_three_matches, 1):\n",
    "    print(f\"\\n----- Match {i} -----\\n\")\n",
    "    print(f\"Chapter: {match['chapter']}\")\n",
    "    print(f\"Verse: {match['verse']}\")\n",
    "    print(f\"Sholkha: {match['sholkha']}\")\n",
    "    print(f\"English Translation of Sholkha: {match['eng_translation']}\")\n",
    "    print(f\"\\nMeaning in English: {match['eng_meaning']}\")"
   ]
  },
  {
   "cell_type": "code",
   "execution_count": 19,
   "metadata": {},
   "outputs": [
    {
     "name": "stdout",
     "output_type": "stream",
     "text": [
      "\n",
      "----- Match 1 -----\n",
      "\n",
      "Chapter: Chapter 12\n",
      "Verse: Verse 11\n",
      "Sholkha: अथैतदप्यशक्तोऽसि कर्तुं मद्योगमाश्रित: |सर्वकर्मफलत्यागं तत: कुरु यतात्मवान् || 11||\n",
      "Hindi Translation of Sholkha: यदि तुम भक्तियुक्त होकर मेरी सेवा के लिए कार्य करने में असमर्थ हो तब अपने सभी कर्मों के फलों का त्याग करो और आत्म स्थित हो जाओ।\n",
      "\n",
      "Meaning in Hindi: इस अध्याय के 8वें श्लोक का आरम्भ करने के साथ श्रीकृष्ण ने अर्जुन के कल्याणार्थ तीन मार्ग बताए थे। तीसरे मार्ग में उन्होंने अर्जुन को उनकी सेवार्थ कार्य करने को कहा लेकिन इस प्रयोजन हेतु भी शुद्धता और निश्चयात्मक बुद्धि का होना आवश्यक है। जो लोग भगवान के साथ अपने संबंध के बारे में आश्वस्त नहीं हैं और जिन्होनें भगवद्प्राप्ति को अपने जीवन का लक्ष्य नहीं बनाया है उनके लिए भगवान के सुख के लिए कार्य करना असंभव होता है।\n",
      "\n",
      "----- Match 2 -----\n",
      "\n",
      "Chapter: Chapter 2\n",
      "Verse: Verse 8\n",
      "Sholkha: न हि प्रपश्यामि ममापनुद्याद्यच्छोकमुच्छोषणमिन्द्रियाणाम् |अवाप्य भूमावसपत्नमृद्धंराज्यं सुराणामपि चाधिपत्यम् || 8||\n",
      "Hindi Translation of Sholkha: मुझे ऐसा कोई उपाय नहीं सूझता जो मेरी इन्द्रियों को सुखाने वाले इस शोक को दूर कर सके। यदि मैं धन सम्पदा से भरपूर इस पृथ्वी पर निष्कंटक राज्य प्राप्त कर लेता हूँ या देवताओं जैसा प्रभुत्व प्राप्त कर लेता हूँ तब भी मैं इस शोक को दूर करने में समर्थ नहीं हो पाऊँगा।\n",
      "\n",
      "Meaning in Hindi: जब हम किसी विपत्ति मे फंस जाते हैं तब हमारी बुद्धि उस विपत्ति के कारणों का विश्लेषण करने लगती है। जब आगे कोई उपाय नहीं सूझता और सब रास्ते बंद हो जाते है तब विषाद उत्पन्न होता है। क्योंकि अर्जुन की यह समस्या उसकी मंद बुद्धि की क्षमता से अधिक बड़ी हैऔर उसका लौकिक ज्ञान उसे दुख के महासागर में से जिसमें वह स्वयं को डूबा हुआ पाता है से निकालने के लिए अपर्याप्त है।श्रीकृष्ण को गुरु के रूप में स्वीकार कर अर्जुन अब अपनी दयनीय दशा प्रकट करने के लिए अपना हृदय उनके सम्मुख उड़ेल देता है। अर्जुन की इस दशा को उत्तम नहीं कहा जा सकता। कभी-कभी हमें भी अपनी जीवन यात्रा में निरंतर ऐसी परिस्थितियों का सामना करना पड़ता है। जब हम सुख की कामना करते हैं तब हमें दुख मिलता है।हम ज्ञान प्राप्त करना चाहते हैं किन्तु हम अज्ञान के अंधकार को दूर करने में समर्थ नहीं हो पाते। हम सच्चा प्रेम पाने के लिए तरसते हैं किन्तु हमें बार-बार निराशा मिलती है। हमारे कॉलेज की डिग्रियाँ, अर्जित ज्ञान और सांसारिक छात्रवृत्तियाँ हमारे जीवन की इन जटिलताओं का समाधान नहीं कर सकतीं। हमें जीवन की उलझनों का समाधान करने के लिए दिव्य ज्ञान प्राप्त करने की आवश्यकता होती है। दिव्य ज्ञान का कोष हमें तभी मिलता है जब हम सच्चे गुरु को खोज लेते हैं जो सदैव इन्द्रियातीत रहता है, केवल हमें विनम्रतापूर्वक उससे ज्ञान प्राप्त करने के लिए उद्यत हों। अर्जुन इसी मार्ग का अनुसरण करने का निर्णय करता है।\n",
      "\n",
      "----- Match 3 -----\n",
      "\n",
      "Chapter: Chapter 13\n",
      "Verse: Verse 29\n",
      "Sholkha: समं पश्यन्हि सर्वत्र समवस्थितमीश्वरम् |न हिनस्त्यात्मनात्मानं ततो याति परां गतिम् || 29||\n",
      "Hindi Translation of Sholkha: वे जो भगवान को सर्वत्र और सभी जीवों में समान रूप से स्थित देखते हैं वे अपने मन से स्वयं को निम्नीकृत नहीं करते। इस प्रकार से वे अपने परम गंतव्य को प्राप्त करते हैं।\n",
      "\n",
      "Meaning in Hindi: मन की प्रकृति सुख की कामना करना है और प्राकृत शक्ति की उपज होने के कारण सहज रूप से इसकी रूचि सांसारिक सुखों में होती है। अगर हम अपने मन की इच्छाओं की तृप्ति करते हैं तब हम गहन से गहन लौकिक चेतनाओं के निम्नतम स्तर तक धस जाते हैं। इस अधोपतन को रोकने के उपाय के रूप में बुद्धि की सहायता से मन पर अंकुश लगाना पड़ता है। इसके लिए बुद्धि को सच्चे ज्ञान से सशक्त करना आवश्यक है।वे लोग जो भगवान को सभी जीवों में प्रकट परमात्मा के रूप में देखना सीख लेते हैं और इस सत्य ज्ञान से जीवन निर्वाह करना आरम्भ करते हैं तब वे फिर कभी दूसरों के साथ अपने संबंधों में व्यक्तिगत लाभ और सुख की अपेक्षा नहीं करते। वे न तो दूसरे के अच्छे कार्यों के कारण उनके प्रति आसक्त होते हैं और न ही उनके द्वारा स्वयं को किसी भी प्रकार की क्षति पहुँचाने के कारण उनसे द्वेष करते हैं। अपितु इसके विपरीत वे सभी को भगवान के अंश के रूप में देखते हैं और अन्य लोगों का सम्मान और उनकी सेवा करने का शुद्ध मनोभाव बनाए रखते हैं। जब उन्हें अपने भीतर भगवान की उपस्थिति का बोध हो जाता है तब वे स्वाभाविक रूप से दुर्व्यवहार, धोखा-धड़ी, दूसरों का निरादर और दूसरों को अपमानित करने जैसे विकारों से दूर रहते हैं। उनके लिए मानव निर्मित राष्ट्रीयता, योनि, जाति, लिंगभेद, पद प्रतिष्ठा, रंग भेद, अमीर-गरीब आदि सबका अन्तर अनावश्यक हो जाता है। इस प्रकार से वे सभी जीवों में भगवान की उपस्थिति का बोध करते हुए अपने मन को उन्नत करते हैं और अंततः परम लक्ष्य को प्राप्त कर लेते हैं।\n"
     ]
    }
   ],
   "source": [
    "user_input = 'How to attain ultimate happiness'\n",
    "top_three_matches = result_hin(user_input, top_k=3)\n",
    "\n",
    "for i, match in enumerate(top_three_matches, 1):\n",
    "    print(f\"\\n----- Match {i} -----\\n\")\n",
    "    print(f\"Chapter: {match['chapter']}\")\n",
    "    print(f\"Verse: {match['verse']}\")\n",
    "    print(f\"Sholkha: {match['sholkha']}\")\n",
    "    print(f\"Hindi Translation of Sholkha: {match['hin_translation']}\")\n",
    "    print(f\"\\nMeaning in Hindi: {match['hin_meaning']}\")"
   ]
  },
  {
   "cell_type": "markdown",
   "metadata": {},
   "source": [
    "### Exporting Results"
   ]
  },
  {
   "cell_type": "code",
   "execution_count": 20,
   "metadata": {},
   "outputs": [],
   "source": [
    "def recommend(user_input, top_k=3, output_lang='eng'):\n",
    "    results = []\n",
    "    if output_lang == 'eng':\n",
    "        results = result_eng(user_input, top_k)\n",
    "    elif output_lang == 'hin':\n",
    "        results = result_hin(user_input, top_k)\n",
    "    else:\n",
    "        results = ['Something went wrong']\n",
    "    return results"
   ]
  },
  {
   "cell_type": "code",
   "execution_count": 21,
   "metadata": {},
   "outputs": [
    {
     "name": "stdout",
     "output_type": "stream",
     "text": [
      "\n",
      "----- Match 1 -----\n",
      "\n",
      "Chapter: Chapter 18\n",
      "Verse: Verse 44\n",
      "Sholkha: कृषिगौरक्ष्यवाणिज्यं वैश्यकर्म स्वभावजम् |परिचर्यात्मकं कर्म शूद्रस्यापि स्वभावजम् || 44||\n",
      "English Translation of Sholkha: Agriculture, dairy farming, and commerce are the natural works for those with the qualities of Vaishyas. Serving through work is the natural duty for those with the qualities of Shudras.\n",
      "\n",
      "Meaning in English: The Vaishyas were those whose natures were predominantly rājasic with a mixture of tamo guṇa. They were thus inclined toward producing and possessing economic wealth through business and agriculture. They sustained the economy of the nation and created jobs for the other classes. They were also expected to undertake charitable projects to share their wealth with the deprived sections of society. The Shudras were those who possessed tāmasic natures. They were not inclined toward scholarship, administration, or commercial enterprise. The best way for their progress was to serve society according to their calling. Artisans, technicians, job-workers, tailors, craftsmen, barbers, etc. were included in this class.\n"
     ]
    }
   ],
   "source": [
    "input = 'Physical World & Human Being'\n",
    "output = recommend(input, top_k=1)\n",
    "\n",
    "for i, match in enumerate(output, 1):\n",
    "    print(f\"\\n----- Match {i} -----\\n\")\n",
    "    print(f\"Chapter: {match['chapter']}\")\n",
    "    print(f\"Verse: {match['verse']}\")\n",
    "    print(f\"Sholkha: {match['sholkha']}\")\n",
    "    print(f\"English Translation of Sholkha: {match['eng_translation']}\")\n",
    "    print(f\"\\nMeaning in English: {match['eng_meaning']}\")"
   ]
  },
  {
   "cell_type": "code",
   "execution_count": 22,
   "metadata": {},
   "outputs": [
    {
     "name": "stdout",
     "output_type": "stream",
     "text": [
      "\n",
      "----- Match 1 -----\n",
      "\n",
      "Chapter: Chapter 18\n",
      "Verse: Verse 44\n",
      "Sholkha: कृषिगौरक्ष्यवाणिज्यं वैश्यकर्म स्वभावजम् |परिचर्यात्मकं कर्म शूद्रस्यापि स्वभावजम् || 44||\n",
      "Hindi Translation of Sholkha: कृषि, गोपालन और दुग्ध उत्पादन तथा व्यापार, वैश्य गुणों से संपन्न लोगों के स्वाभाविक कार्य हैं। शुद्रता के गुण से युक्त लोगों के श्रम और सेवा स्वाभाविक कर्म हैं।\n",
      "\n",
      "Meaning in Hindi: वैश्यों में रजोगुण की प्रधानता के साथ तमोगुण मिश्रित थे। इसलिए उनकी रूचि उत्पाद कार्यों व्यापार और कृषि के माध्यम से अर्थव्यवस्था पर नियंत्रण करने और धनोपार्जन में थी। वे देश की अर्थव्यवस्था को संभालते थे और अन्य वर्गों के लिए रोजगार उत्पन्न करते थे। उनसे समाज के वंचित लोगों के कल्याणार्थ पुण्य और धमार्थ कार्यों में धन सम्पदा दान करने की अपेक्षाकी जाती थी। शुद्र वे थे जिनमें तमोगुण की प्रधानता थी। उनकी रूचि विद्वता प्राप्त करने और प्रशासनिक कार्यों या व्यावसायिक उद्यमों में नहीं थी। उनके लिए उन्नति का मार्ग समाज की अपेक्षाओं के अनुसार उसकी सेवा करना था। कलाकार, तकनीशियन, श्रमिक, दर्जी, कारीगर नाई इत्यादि इस वर्ग में सम्मिलित थे।\n"
     ]
    }
   ],
   "source": [
    "input = 'Physical World & Human Being'\n",
    "output = recommend(input, top_k=1, output_lang='hin')\n",
    "\n",
    "for i, match in enumerate(output, 1):\n",
    "    print(f\"\\n----- Match {i} -----\\n\")\n",
    "    print(f\"Chapter: {match['chapter']}\")\n",
    "    print(f\"Verse: {match['verse']}\")\n",
    "    print(f\"Sholkha: {match['sholkha']}\")\n",
    "    print(f\"Hindi Translation of Sholkha: {match['hin_translation']}\")\n",
    "    print(f\"\\nMeaning in Hindi: {match['hin_meaning']}\")"
   ]
  },
  {
   "cell_type": "code",
   "execution_count": 23,
   "metadata": {},
   "outputs": [],
   "source": [
    "import pickle\n",
    "\n",
    "pickle.dump(final_df, open('./final_df.pkl', 'wb'))"
   ]
  }
 ],
 "metadata": {
  "kernelspec": {
   "display_name": "Python 3",
   "language": "python",
   "name": "python3"
  },
  "language_info": {
   "codemirror_mode": {
    "name": "ipython",
    "version": 3
   },
   "file_extension": ".py",
   "mimetype": "text/x-python",
   "name": "python",
   "nbconvert_exporter": "python",
   "pygments_lexer": "ipython3",
   "version": "3.11.9"
  }
 },
 "nbformat": 4,
 "nbformat_minor": 2
}
